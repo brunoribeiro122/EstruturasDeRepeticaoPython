{
  "cells": [
    {
      "cell_type": "markdown",
      "metadata": {
        "id": "view-in-github",
        "colab_type": "text"
      },
      "source": [
        "<a href=\"https://colab.research.google.com/github/brunoribeiro122/loopaula/blob/main/ExerciciosFor_While.ipynb\" target=\"_parent\"><img src=\"https://colab.research.google.com/assets/colab-badge.svg\" alt=\"Open In Colab\"/></a>"
      ]
    },
    {
      "cell_type": "markdown",
      "source": [
        "#Exercicios Estrutura de repetição "
      ],
      "metadata": {
        "id": "xNRY830nCAXN"
      }
    },
    {
      "cell_type": "markdown",
      "source": [
        "Peça para  o usuário entrar com dois valores (primeiro e último).\n",
        "Faça a contagem entre esses números.\n",
        "Caso o último for menor que  o primeiro faça a contagem decrescente.\n",
        "Caso o último número for maior que o primeiro faça a contagem crescente."
      ],
      "metadata": {
        "id": "8Rrzk-g7CGVs"
      }
    },
    {
      "cell_type": "code",
      "execution_count": null,
      "metadata": {
        "id": "NS5HSWG_ywS-"
      },
      "outputs": [],
      "source": [
        "p = int(input('Digite um valor'))\n",
        "u = int(input('Digite outro valor'))\n",
        "while p > u:#Nesse caso se p for maior que u ele faz a contagem decrescente de 1 em 1\n",
        "    print(p)\n",
        "    p = p-1\n",
        "while p < u:#Nesse caso se p for menor que u ele faz a contagem crescente de 1 em 1\n",
        "    print(p)\n",
        "    p = p+1"
      ]
    },
    {
      "cell_type": "markdown",
      "source": [
        "Ler um valor inteiro (aceitar somente valores entre 1 e 10) e escrever a tabuada de 1 a 10 do valor lido."
      ],
      "metadata": {
        "id": "Y8DowX21CKxR"
      }
    },
    {
      "cell_type": "code",
      "execution_count": null,
      "metadata": {
        "id": "-psf_2PwzPE6"
      },
      "outputs": [],
      "source": [
        "n1 = int(input('Digite um número inteiro do 1 ao 10'))\n",
        "if n1 < 10 and n1 > 1:\n",
        "    for i in range(10):\n",
        "        print(n1*i)\n",
        "        i = i+1\n",
        "print(n1*10)"
      ]
    },
    {
      "cell_type": "markdown",
      "source": [
        "Faça um programa que peça ao usuário para adivinhar um número entre 1 e 100.\n",
        "Enquanto o número digitado não for igual a um número secreto definido pelo programa,\n",
        "o programa deve pedir ao usuário que tente novamente. Quando o usuário acertar o número,\n",
        "o programa deve imprimir \"Parabéns, você acertou!\".\n"
      ],
      "metadata": {
        "id": "BEZVWHDsCRLl"
      }
    },
    {
      "cell_type": "code",
      "execution_count": null,
      "metadata": {
        "id": "R1HPoq0X2r89"
      },
      "outputs": [],
      "source": [
        "import random\n",
        "numero_secreto = random.randint(1, 100)\n",
        "tentativas  =  1\n",
        "while  tentativas  <=  3 :\n",
        "    palpite  =  int ( input ( 'Adivinhe o número secreto' ))\n",
        "    if  palpite  ==  numero_secreto :\n",
        "        print( 'Parabens, você acertou!' )\n",
        "        break\n",
        "    else:\n",
        "        if palpite >  numero_secreto :\n",
        "            print ( 'O número secreto é menor que' , palpite )\n",
        "        else :\n",
        "            print( 'O número secreto é maior do que' , palpite )\n",
        "    tentativas  +=  1\n",
        "if  tentativas  >  3 :\n",
        "    print ( 'Suas tentativas acabaram **ACESSO BLOQUEADO**' )\n",
        "    \n"
      ]
    },
    {
      "cell_type": "markdown",
      "source": [
        " Faça um programa que peça ao usuário para digitar uma sequência de números inteiros.\n",
        "O programa deve imprimir a soma dos números digitados, mas parar a soma se o usuário digitar um número negativo."
      ],
      "metadata": {
        "id": "Y8BcAeA7HFNh"
      }
    },
    {
      "cell_type": "code",
      "execution_count": null,
      "metadata": {
        "id": "mxir5ItY2cbX"
      },
      "outputs": [],
      "source": [
        "soma = 0\n",
        "while True:\n",
        "    numero = int(input('Digite um número para ser somado'))\n",
        "    if numero < 0:\n",
        "        print('numero negativo')\n",
        "        break\n",
        "    soma = soma + numero\n",
        "    print(soma)"
      ]
    },
    {
      "cell_type": "markdown",
      "source": [
        "Faça um programa que peça ao usuário para digitar o número de vezes que ele quer jogar uma moeda.\n",
        "O programa deve simular o lançamento de uma moeda e imprimir o resultado de cada lançamento (cara ou coroa).\n",
        "No final, o programa deve imprimir o número total de caras e o número total de coroas."
      ],
      "metadata": {
        "id": "Wt5oEQgdHUXC"
      }
    },
    {
      "cell_type": "code",
      "execution_count": null,
      "metadata": {
        "id": "9WhE9kQpIZzj"
      },
      "outputs": [],
      "source": [
        "import random\n",
        "caras = 0\n",
        "coroas = 0\n",
        "n = int(input('digite o numero de vezes que a moeda deve girar'))\n",
        "j = 0\n",
        "while j < n:\n",
        "    j = j+1\n",
        "    resultado = random.randint(0, 1)\n",
        "    if resultado == 1:\n",
        "        print('cara')\n",
        "        caras = caras + 1\n",
        "    elif resultado == 0:\n",
        "        print('coroa')\n",
        "        coroas = coroas + 1\n",
        "\n",
        "print('A moeda caiu',caras,'vezes em cara e',coroas,'vezes em coroa')\n",
        "   "
      ]
    },
    {
      "cell_type": "markdown",
      "source": [
        "Faça um programa que simule a urna eletrônica.\n",
        "A tela a ser apresentada deverá ser da seguinte forma:\n",
        "As opcoes sao:\n",
        "1. Candidato Jair Rodrigues\n",
        "2. Candidato Carlos Luz\n",
        "3. Candidato Neves Rocha\n",
        "4. Nulo\n",
        "5. Branco\n",
        "Entre com o seu voto:\n",
        "O programa deverá ler os votos dos eleitores e, quando for entrado o número 6, apresentar as seguintes\n",
        "informações:\n",
        "a) O número de votos de cada candidato;\n",
        "b) A porcentagem de votos nulos;\n",
        "c) A porcentagem de votos brancos;"
      ],
      "metadata": {
        "id": "LZnRzCxuHX-z"
      }
    },
    {
      "cell_type": "code",
      "execution_count": null,
      "metadata": {
        "id": "QiBWiQphPaaP"
      },
      "outputs": [],
      "source": [
        "print('Urna Eletronica')\n",
        "print(\" 1. Candidato Jair Rodrigues\\n 2. Candidato Carlos Luz\\n 3. Candidato Neves Rocha\\n 4. Nulo\\n 5. Branco\\n 6. Estatisticas\")\n",
        "j = 0\n",
        "c = 0\n",
        "n = 0\n",
        "nl = 0\n",
        "b = 0\n",
        "while True:\n",
        "    voto = int(input('Digite seu voto'))\n",
        "    if voto > 6:\n",
        "        print('Voto invalido')\n",
        "    elif voto == 1:\n",
        "        print('Voto Computado')\n",
        "        j = j + 1\n",
        "    elif voto == 2:\n",
        "        print('Voto Computado')\n",
        "        c = c + 1\n",
        "    elif voto == 3:\n",
        "        print('Voto Computado')\n",
        "        n = n + 1\n",
        "    elif voto == 4:\n",
        "        print('Voto Computado')\n",
        "        nl = nl + 1\n",
        "    elif voto == 5:\n",
        "        print('Voto Computado')\n",
        "        b = b + 1\n",
        "    elif voto == 6:\n",
        "        total = (j+c+n+nl+b)\n",
        "        nulos = nl/total*100\n",
        "        brancos = b/total*100\n",
        "        print('Estatisticas\\n Jair Rodrigues',j,'votos\\n Carlos Luz',c,'votos\\n Neves Rocha',n,'votos\\n Nulo',nulos,' % de votos\\n Branco',brancos,'% de votos\\n')\n",
        "        break\n",
        "        "
      ]
    },
    {
      "cell_type": "markdown",
      "source": [
        "Faça um algoritmo em python capaz de realizar o cálculo de rentabilidade de uma poupança,\n",
        "esse algoritmo deve receber como entrada o valor inicial que o usuário está disposto a guardar.\n",
        "Como saída, o programa deve imprimir na tela mês a mês o montante por 12 meses\n",
        "aplicado a uma taxa de 0,5 % ao mês de rentabilidade."
      ],
      "metadata": {
        "id": "032uR56dHEsb"
      }
    },
    {
      "cell_type": "code",
      "execution_count": null,
      "metadata": {
        "id": "KzvrXqE1V5IJ"
      },
      "outputs": [],
      "source": [
        "p = int(input('Digite o valor inicial que deseja guardar na poupança'))\n",
        "n = 0\n",
        "for n in range(12):\n",
        "    n = n + 1\n",
        "    i = 0.005\n",
        "    m = int(p * (1 + i)**n)\n",
        "    rendimento  = (m - p)\n",
        "    print('Total de:',m,'reais no',n,'° mês **********','Rendimento de:',rendimento, 'reais no',n,'° mês')\n",
        "   \n"
      ]
    },
    {
      "cell_type": "markdown",
      "source": [
        "Faça um programa que mostre o fatorial de um número fornecido pelo usuário."
      ],
      "metadata": {
        "id": "orHqJHZbHiBS"
      }
    },
    {
      "cell_type": "code",
      "execution_count": 114,
      "metadata": {
        "id": "p8tC7BwbVP8y",
        "colab": {
          "base_uri": "https://localhost:8080/"
        },
        "outputId": "2074418a-53a7-41fc-ceff-36210e903c33"
      },
      "outputs": [
        {
          "output_type": "stream",
          "name": "stdout",
          "text": [
            "Digite o número que deseja encontrar o fatorial:6\n",
            "6\n",
            "12\n",
            "36\n",
            "144\n",
            "720\n"
          ]
        }
      ],
      "source": [
        "n = int(input('Digite o número que deseja encontrar o fatorial:'))\n",
        "i = 0\n",
        "for i in range(n - 1): #Nesta parte o range deifinido é o numero do qual o usuario deseja encontrar o fatorial\n",
        "    i = i + 1 #Enquanto o número estiver no range do loop o programa vai somar +1 ao contador(i)\n",
        "    f = n * i # F é o numero que o usuario definiu multiplicado pelo contador\n",
        "    n = f # Agora atribuimos o resultado da equaçao anterior ao numero definido pelo usuario(no caso N) para que no proximo loop, o resultado da equação F continue sendo multiplicado pelo contador\n",
        "    #assim chegando ao fatorial de N \n",
        "    print(f)\n",
        "\n",
        "   \n",
        "   \n",
        "\n"
      ]
    }
  ],
  "metadata": {
    "colab": {
      "provenance": [],
      "authorship_tag": "ABX9TyORBnEQew+GlUG+tn6tW33a",
      "include_colab_link": true
    },
    "kernelspec": {
      "display_name": "Python 3",
      "name": "python3"
    },
    "language_info": {
      "name": "python"
    }
  },
  "nbformat": 4,
  "nbformat_minor": 0
}